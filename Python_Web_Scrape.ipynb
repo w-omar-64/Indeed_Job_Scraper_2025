{
 "cells": [
  {
   "cell_type": "markdown",
   "id": "60f9c9ae-9bd1-4694-92ae-9935fd81f0d3",
   "metadata": {},
   "source": [
    "## Task 1 – Import required libraries\n"
   ]
  },
  {
   "cell_type": "markdown",
   "id": "523d6690-d188-40db-b0bb-fac08ab136a1",
   "metadata": {},
   "source": [
    "### Here, we are importing the following required libraries:\n",
    "* csv for writing data to a CSV file\n",
    "* pandas for creating the data elements\n",
    "* selenium for sending HTTP requests to the website\n",
    "* BeautifulSoup for parsing the HTML source code of the webpage\n",
    "* Webdriver_manager for automatated installation and management of web drivers\n",
    "* time for introducing a delay in our program."
   ]
  },
  {
   "cell_type": "code",
   "execution_count": 26,
   "id": "bbaeaf55-4795-4d76-bf13-0698c1f44459",
   "metadata": {},
   "outputs": [],
   "source": [
    "import time\n",
    "import csv\n",
    "import pandas as pd\n",
    "from selenium import webdriver\n",
    "from selenium.webdriver.chrome.service import Service\n",
    "from selenium.webdriver.common.by import By\n",
    "from selenium.webdriver.common.keys import Keys\n",
    "from selenium.webdriver.chrome.options import Options\n",
    "from webdriver_manager.chrome import ChromeDriverManager\n",
    "from bs4 import BeautifulSoup"
   ]
  },
  {
   "cell_type": "markdown",
   "id": "7ae70dc1-900d-4595-b2f7-cb26ebc5f8a2",
   "metadata": {},
   "source": [
    "## Task 2 – Setup the Selenium Webdriver\n"
   ]
  },
  {
   "cell_type": "code",
   "execution_count": 28,
   "id": "1de80263-bd6d-44eb-ad3d-41dcf1dcb646",
   "metadata": {},
   "outputs": [],
   "source": [
    "chrome_options = Options()\n",
    "chrome_options.add_argument(\"--headless\")  # Run in headless mode (no UI)\n",
    "chrome_options.add_argument(\"--no-sandbox\")\n",
    "chrome_options.add_argument(\"--disable-dev-shm-usage\")\n",
    "chrome_options.add_argument(\"user-agent=Mozilla/5.0 (Windows NT 10.0; Win64; x64) AppleWebKit/537.36 (KHTML, like Gecko) Chrome/114.0.0.0 Safari/537.36\")\n",
    "\n",
    "driver = webdriver.Chrome(service=Service(ChromeDriverManager().install()), options=chrome_options)\n"
   ]
  },
  {
   "cell_type": "markdown",
   "id": "1410d602-5218-4dce-b054-99cdf871427e",
   "metadata": {},
   "source": [
    "## Task 3 – Generate the functions\n",
    "* Open Indeed in a web browser\n",
    "* Search for jobs based on user input\n",
    "* Scrape and Parse Job postings\n",
    "* Save data into a CSV\n"
   ]
  },
  {
   "cell_type": "code",
   "execution_count": 30,
   "id": "11bc4cbe-9ac7-4ca8-a05c-f8a6291bfb7d",
   "metadata": {},
   "outputs": [],
   "source": [
    "# Open Indeed and Search for Jobs\n",
    "def search_jobs(job_title, location):\n",
    "    url = \"https://ca.indeed.com/\"\n",
    "    driver.get(url)\n",
    "    time.sleep(2)  # Allow time for page to load\n",
    "\n",
    "    # Find search fields\n",
    "    job_search = driver.find_element(By.ID, \"text-input-what\")\n",
    "    location_search = driver.find_element(By.ID, \"text-input-where\")\n",
    "\n",
    "    # Clear and input job title & location\n",
    "    job_search.clear()\n",
    "    job_search.send_keys(job_title)\n",
    "\n",
    "    location_search.clear()\n",
    "    location_search.send_keys(location)\n",
    "\n",
    "    # Press Enter to search\n",
    "    job_search.send_keys(Keys.RETURN)\n",
    "    time.sleep(3)  # Allow results to load\n",
    "\n",
    "\n",
    "# Parse Job Listings\n",
    "def scrape_jobs():\n",
    "    soup = BeautifulSoup(driver.page_source, \"html.parser\")\n",
    "    job_cards = soup.find_all(\"div\", class_=\"job_seen_beacon\")\n",
    "\n",
    "    jobs = []\n",
    "\n",
    "    for job in job_cards:\n",
    "        title_elem = job.find(\"h2\", class_=\"jobTitle css-1psdjh5 eu4oa1w0\")\n",
    "        company_elem = job.find(\"span\", class_=\"css-1h7lukg eu4oa1w0\")\n",
    "        location_elem = job.find(\"div\", class_=\"css-1restlb eu4oa1w0\")\n",
    "        link_elem = job.find(\"a\", class_=\"jcs-JobTitle css-1baag51 eu4oa1w0\")\n",
    "\n",
    "        if title_elem and company_elem and location_elem and link_elem:\n",
    "            job_title = title_elem.text.strip()\n",
    "            company = company_elem.text.strip()\n",
    "            location = location_elem.text.strip()\n",
    "            job_link = \"https://ca.indeed.com\" + link_elem[\"href\"]\n",
    "\n",
    "            jobs.append([job_title, company, location, job_link])\n",
    "\n",
    "    return jobs\n",
    "\n",
    "\n",
    "# Save Data to CSV\n",
    "def save_to_csv(data, filename=\"indeed_jobs.csv\"):\n",
    "    df = pd.DataFrame(data, columns=[\"Job Title\", \"Company\", \"Location\", \"Job Link\"])\n",
    "    df.to_csv(filename, index=False)\n",
    "    print(f\"Data saved to {filename}\")\n"
   ]
  },
  {
   "cell_type": "markdown",
   "id": "3f9f86d9-7693-4289-8a65-2324a7d5087d",
   "metadata": {},
   "source": [
    "## Task 4 – Define the main function.\n"
   ]
  },
  {
   "cell_type": "code",
   "execution_count": 32,
   "id": "0f961c32-df5d-4df7-a9a3-519ddc3b64e8",
   "metadata": {},
   "outputs": [
    {
     "name": "stdin",
     "output_type": "stream",
     "text": [
      "Enter job title to search:  Data Analyst\n",
      "Enter job location (leave blank for Etobicoke as Default):  \n"
     ]
    },
    {
     "name": "stdout",
     "output_type": "stream",
     "text": [
      "Data saved to indeed_jobs.csv\n"
     ]
    }
   ],
   "source": [
    "# Run the script\n",
    "if __name__ == \"__main__\":\n",
    "    job_title = input(\"Enter job title to search: \")\n",
    "    location = input(\"Enter job location (leave blank for Etobicoke as Default): \")  # No default location\n",
    "\n",
    "    search_jobs(job_title, location)\n",
    "    jobs_data = scrape_jobs()\n",
    "\n",
    "    if jobs_data:\n",
    "        save_to_csv(jobs_data)\n",
    "    else:\n",
    "        print(\"No jobs found.\")\n",
    "\n",
    "    driver.quit()"
   ]
  },
  {
   "cell_type": "code",
   "execution_count": 49,
   "id": "a249c497-01d4-4c1b-90a0-1b656cffef7e",
   "metadata": {},
   "outputs": [
    {
     "name": "stdout",
     "output_type": "stream",
     "text": [
      "    Job Title                                       Company                                Location                             Job Link\n",
      "--  ----------------------------------------------  -------------------------------------  -----------------------------------  -------------------------------------------------------------------------------------------------------------------------------------------------------------------------------------------------------------------------------------------------------------------------------------------------------------------------------------------------------------------------------------------------------------------------------------------------------------------------------------------------------------------------------------------------------------------------------------------------------------------------------------------------------------------------------------------------------------------------------------------------------------------------------------------------------------------------------------------------\n",
      " 0  Data Analyst                                    CloudMD Software & Services Inc - CAN  Mississauga, ON L4W 4P4              https://ca.indeed.com/rc/clk?jk=569922d3f8977832&bb=XGyJY4zCShteWmf1tWlDE5ISo8gMJaH-Nfmi9LaTOg7GKY1DmjQYnTx516GtCMaW5fNqliWSp99eRUxwA021DaOcx2d3Zkt4nzTQYQe0dKglrKpwGvG1upJ8j03JjZnB&xkcb=SoAV67M32ZRTMbTb4J0JbzkdCdPP&fccid=b2b22a50c32e279c&vjs=3\n",
      " 1  Data & Reporting Analyst, Master Data Services  Gay Lea Foods                          Mississauga, ON L4W 5B4              https://ca.indeed.com/rc/clk?jk=0e71ab2b7921d9f9&bb=XGyJY4zCShteWmf1tWlDE8TooNX02neIy-QhkaqBfcY9jSR95Tmh9Uq34iflcrjZTjk7l_33Xr1gEzf3QYQNn_oK_F37SwZOJ6glGFoiNTXLSKfo95F3kDj06ehTF-1i&xkcb=SoCh67M32ZRTMbTb4J0IbzkdCdPP&fccid=52cb6aaa7584bed7&vjs=3\n",
      " 2  Data Analyst                                    Bernecker's Nursery                    Toronto, ON                          https://ca.indeed.com/rc/clk?jk=4a3ba2977ce22301&bb=XGyJY4zCShteWmf1tWlDE6IAES00o5ZkHylg1PAFbMWig7pRe8GsxhcjbU81FJj6jBvVu4Cs1GPRwmV2Gl3x3fdaGAQm-gPYLISUaXogofuIVtmyKa3y9h-C8VgMXaX_&xkcb=SoAv67M32ZRTMbTb4J0PbzkdCdPP&fccid=306ea6362f91634d&vjs=3\n",
      " 3  Junior Sales & Operations Analyst               ITW Construction Products              Hybrid work in Markham, ON           https://ca.indeed.com/pagead/clk?mo=r&ad=-6NYlbfkN0BTIdG9peXrL9IOGJZzPCch9N_0Opb22TTyeo3CI9thMIKY4Y4fAL4H1FBuRT6hya-Y7osxdI5sU6KWKhTROna-MiPkdeD7skbA0xsShf2RwG93E3OuFvDc7WkSl9mEjzTpB8RKO7uKlSlvJr7u4Sq-Ti_KxxE--e3-v5GQgmnBgbkGf7hraOncDIj1tHGnedMno7Ush6AJYeBzJd8PcMAH2khNh6JGGzaAwFiHlcCjAizvTbHTrMpZXZrtF5s7-THCI2YwkeX9vRqpqwaja8hitHri597XA4WDOXwSSul11liX2guUawWGzfqc2uGzUZZitk-Kq-MMNQ0mrMxGzwavjji8ipJpxnJsF2DRiWZ5ZFxPW2YcnwkJxyzLA0MHMUtV54PRJ5S5fTmVQMdNiHcx5VGiCBeIzmeZriWMu9Fk7YPfbudsJAaftsBd1fmw3IuSJ31FiWHv2Jx0H8ngKQ6Tyn9ZVO8fZHDczT5Qf0ShJYuX1zI_bsAd_cv0thubED6bQ9L0xDD8aqvXMGxoaY4s9nIZyiXboGYQMO-EHINe3gSguq9kvF_imppOum8lwHL3cKWa2YKkTXDS53YGrYOBta66TRbzJQlE6rQS5_FW1FslC5i7YDmnFwUhH-K88PJrvDTrNecjfDYdSRZhvUm1Dr-iIgY2RSuk7aCPrheuuQ==&xkcb=SoBv6_M32ZRTMbTb4J0ObzkdCdPP&camk=nUmJqO2E8rh0FMCJ2TZtDQ==&p=5&fvj=0&vjs=3\n",
      " 4  Data Analyst, Store Operations                  Harry Rosen                            Hybrid work in Toronto, ON           https://ca.indeed.com/rc/clk?jk=9694ad91e53cbb09&bb=XGyJY4zCShteWmf1tWlDE8vgYPOdScvf-GBpl6NnePeFxwpZr8-Q9dnfoOL5jLpYQy39OkewIh_eS8dURNmLPR1f7SUIru29w7jMSMTdkjJddBn-mBJv80EbRe9ouMhK&xkcb=SoAG67M32ZRTMbTb4J0NbzkdCdPP&fccid=228887a37a64b156&vjs=3\n",
      " 5  Data Analyst                                    Export Packers                         Hybrid work in Brampton, ON L6T 5K5  https://ca.indeed.com/rc/clk?jk=bcd1f51f32cf3938&bb=XGyJY4zCShteWmf1tWlDE76Krnnf9W14pS6ZmQUStvqkkk75evkl8j6t9GsRvior_Md6xxeyDvMVO-BZ7V-4V_qJrouWyBJt4OUGiNu1Mqmz6zvHrZD5uLdzLj2f7HOd&xkcb=SoCy67M32ZRTMbTb4J0MbzkdCdPP&fccid=d0f0c4982c334f5c&vjs=3\n",
      " 6  Junior Data Loss Prevention Analyst             BMO Financial Group                    Toronto, ON M8X 1C4                  https://ca.indeed.com/rc/clk?jk=aca8bea41e58b7fb&bb=XGyJY4zCShteWmf1tWlDEz0Agl5cjP14MexYlV02AHvzbbVwVT5FEePrWvTP1AWgjW8MnY8aikxv6RQjh1DfqG6QGjpt8m616I--Lj32PAQLVWf1vTEvIQ%3D%3D&xkcb=SoBb67M32ZRTMbTb4J0DbzkdCdPP&fccid=3a429036b3725efa&vjs=3\n",
      " 7  Data Analyst & Project Planner Intern           Ericsson                               Mississauga, ON                      https://ca.indeed.com/rc/clk?jk=0ce8dfff7d8ca037&bb=XGyJY4zCShteWmf1tWlDE3YfnEquJR-9czbttXq1vTP0C91DTiOM--COOiUEoC4BF3BWbhW9OfE_OIz2OKgrKYnbBZoLiJUBWfIFFEdxbJbiWQy3kKinyA%3D%3D&xkcb=SoDv67M32ZRTMbTb4J0CbzkdCdPP&fccid=82656d64a9a3e6a7&vjs=3\n",
      " 8  Data and Reporting Analyst                      Intelliswift Software, Inc.            Toronto, ON M6K 1X9                  https://ca.indeed.com/rc/clk?jk=2214f538806c209f&bb=XGyJY4zCShteWmf1tWlDE6iQ5rh8bHjngnUjfFNo0NSQ1dupRR61v1uhX25bP0ijQp6jG13klyo-81YgaDiOah59qEHC5DMZbfFgDdpkYzXm1DbIeiiwS-qkrAFR0TDH&xkcb=SoBy67M32ZRTMbTb4J0BbzkdCdPP&fccid=be8f4de1794ed4b7&vjs=3\n",
      " 9  Data Analyst                                    Mindshare                              Toronto, ON                          https://ca.indeed.com/rc/clk?jk=497394f44c413df2&bb=XGyJY4zCShteWmf1tWlDE0jjEHsEWGz2WgeQAE-HgGkLBa2ihlH8MaLDMN1U29B9x3QHRnIIFu1vJV7GaVWK8WJ4v7tLr6IhiviW_oPDts7IWt-b8HFv1hANQdus2gXN&xkcb=SoDG67M32ZRTMbTb4J0AbzkdCdPP&fccid=7c09b9795120f0d4&vjs=3\n",
      "10  Wealth Data Analyst                             TD Bank                                Toronto, ON                          https://ca.indeed.com/rc/clk?jk=8a10a02527af663a&bb=XGyJY4zCShteWmf1tWlDE0jjEHsEWGz2wP7B39LNuaQWMYY8BRzyiMzKs75IV37IUGXqmKdOraymS1sZydV_PE299VHqI-v5Bo1aJY7bKgcMGiIfljx2jQ%3D%3D&xkcb=SoBI67M32ZRTMbTb4J0HbzkdCdPP&fccid=d7114f1cac8d0711&vjs=3\n",
      "11  Data Visualization Analyst                      Fidelity Investments                   Toronto, ON                          https://ca.indeed.com/rc/clk?jk=c1180b8804cbf2c7&bb=XGyJY4zCShteWmf1tWlDE9N-DpV0m2DBgDOEmBFX_Rrnam9quTWh_Bi0O5AS4P6kYaxdU-02I7ssJdc3bg7ls0mo0Kksd1JwBBH2fcG4Y7CBheh_rWLLKg%3D%3D&xkcb=SoD867M32ZRTMbTb4J0GbzkdCdPP&fccid=371f6257caa76972&vjs=3\n",
      "12  Business Data Analyst                           Martin Brower                          Mississauga, ON                      https://ca.indeed.com/rc/clk?jk=2bd7fb72d49d6aec&bb=XGyJY4zCShteWmf1tWlDE3LcrrzBZdP-R9PoKpEKzAIv0qAVMSOohb0nB1BjzlcntDVQI00NBBWCMiz1kE210Ir6g2u98UMAcRw6QoR0foUh1td22uOhdInuwBjLBwg7&xkcb=SoBh67M32ZRTMbTb4J0FbzkdCdPP&fccid=ad16e8cf60290dda&vjs=3\n"
     ]
    }
   ],
   "source": [
    "from tabulate import tabulate\n",
    "\n",
    "# Read the CSV file\n",
    "df = pd.read_csv('indeed_jobs.csv')\n",
    "\n",
    "# Print the dataframe as a table\n",
    "print(tabulate(df, headers='keys'))\n"
   ]
  }
 ],
 "metadata": {
  "kernelspec": {
   "display_name": "Python 3 (ipykernel)",
   "language": "python",
   "name": "python3"
  },
  "language_info": {
   "codemirror_mode": {
    "name": "ipython",
    "version": 3
   },
   "file_extension": ".py",
   "mimetype": "text/x-python",
   "name": "python",
   "nbconvert_exporter": "python",
   "pygments_lexer": "ipython3",
   "version": "3.12.7"
  }
 },
 "nbformat": 4,
 "nbformat_minor": 5
}
